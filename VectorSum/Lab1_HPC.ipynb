{
  "nbformat": 4,
  "nbformat_minor": 0,
  "metadata": {
    "colab": {
      "name": "Lab_1_HPC.ipynb",
      "provenance": [],
      "collapsed_sections": []
    },
    "kernelspec": {
      "name": "python3",
      "display_name": "Python 3"
    },
    "language_info": {
      "name": "python"
    },
    "accelerator": "GPU"
  },
  "cells": [
    {
      "cell_type": "markdown",
      "metadata": {
        "id": "IF4rHmhktbSn"
      },
      "source": [
        "# Borisov Dmitriy (6133-010402D)"
      ]
    },
    {
      "cell_type": "markdown",
      "metadata": {
        "id": "CKqTgTdfwonn"
      },
      "source": [
        "Установка библиотеки numba"
      ]
    },
    {
      "cell_type": "code",
      "metadata": {
        "id": "kjzfL3_27EvO",
        "colab": {
          "base_uri": "https://localhost:8080/"
        },
        "outputId": "8cc95954-0291-4682-f5f4-a1c291456967"
      },
      "source": [
        "!pip install pycuda"
      ],
      "execution_count": 1,
      "outputs": [
        {
          "output_type": "stream",
          "name": "stdout",
          "text": [
            "Requirement already satisfied: pycuda in /usr/local/lib/python3.7/dist-packages (2021.1)\n",
            "Requirement already satisfied: pytools>=2011.2 in /usr/local/lib/python3.7/dist-packages (from pycuda) (2021.2.8)\n",
            "Requirement already satisfied: mako in /usr/local/lib/python3.7/dist-packages (from pycuda) (1.1.5)\n",
            "Requirement already satisfied: appdirs>=1.4.0 in /usr/local/lib/python3.7/dist-packages (from pycuda) (1.4.4)\n",
            "Requirement already satisfied: numpy>=1.6.0 in /usr/local/lib/python3.7/dist-packages (from pytools>=2011.2->pycuda) (1.19.5)\n",
            "Requirement already satisfied: MarkupSafe>=0.9.2 in /usr/local/lib/python3.7/dist-packages (from mako->pycuda) (2.0.1)\n"
          ]
        }
      ]
    },
    {
      "cell_type": "code",
      "metadata": {
        "id": "HkZM79qDCdLN",
        "colab": {
          "base_uri": "https://localhost:8080/",
          "height": 35
        },
        "outputId": "36bcfb49-e068-4379-b4f4-fb0678b8b548"
      },
      "source": [
        "import numpy as np\n",
        "import pandas as pd\n",
        "from time import time\n",
        "import matplotlib.pyplot as plt\n",
        "\n",
        "import pycuda.autoinit\n",
        "from pycuda import driver as cuda, compiler, tools\n",
        "tools.make_default_context().get_device().name()"
      ],
      "execution_count": 2,
      "outputs": [
        {
          "output_type": "execute_result",
          "data": {
            "application/vnd.google.colaboratory.intrinsic+json": {
              "type": "string"
            },
            "text/plain": [
              "'Tesla K80'"
            ]
          },
          "metadata": {},
          "execution_count": 2
        }
      ]
    },
    {
      "cell_type": "code",
      "metadata": {
        "colab": {
          "base_uri": "https://localhost:8080/"
        },
        "id": "Y2PtdwarvYLt",
        "outputId": "6dc39998-f2f6-41d5-a165-b0c50352d8ee"
      },
      "source": [
        "!lscpu |grep 'Model name'"
      ],
      "execution_count": 3,
      "outputs": [
        {
          "output_type": "stream",
          "name": "stdout",
          "text": [
            "Model name:          Intel(R) Xeon(R) CPU @ 2.30GHz\n"
          ]
        }
      ]
    },
    {
      "cell_type": "markdown",
      "metadata": {
        "id": "8SjLPiy6xEMC"
      },
      "source": [
        "Написание кода ядра"
      ]
    },
    {
      "cell_type": "code",
      "metadata": {
        "id": "TDg_GXHoD99S"
      },
      "source": [
        "vecsum_kernel = \"\"\"\n",
        "__device__ void warpReduce(volatile int* shared_memory, int tid) {\n",
        "\tshared_memory[tid] += shared_memory[tid + 32];\n",
        "\tshared_memory[tid] += shared_memory[tid + 16];\n",
        "\tshared_memory[tid] += shared_memory[tid + 8];\n",
        "\tshared_memory[tid] += shared_memory[tid + 4];\n",
        "\tshared_memory[tid] += shared_memory[tid + 2];\n",
        "\tshared_memory[tid] += shared_memory[tid + 1];\n",
        "}\n",
        "\n",
        "// функция ядра\n",
        "// выполнение суммирования элементов массива на GPU\n",
        "__global__ void vecSumKernel(int* vec, int* res) {\n",
        "\t// выделение shared памяти \n",
        "\t__shared__ int shared_memory[2048];\n",
        "\t// расчет идентификатора потока\n",
        "\tint tid = threadIdx.x;\n",
        "\t// загрузка элементов\n",
        "\t// расчет масштабируемого индекса так как размер массива\n",
        "\t// в два раза больше чем имеющееся количество потоков\n",
        "\tint i = blockIdx.x * (blockDim.x * 2) + tid;\n",
        "\t// Сохранение первой подсчитанной частичной суммы, помимо элементов\n",
        "\tshared_memory[tid] = vec[i] + vec[i + blockDim.x];\n",
        "\t__syncthreads();\n",
        "\t// цикл начинаем с половины блока и делим его на две части каждую итерацию\n",
        "\tfor (int s = blockDim.x / 2; s > 32; s >>= 1) {\n",
        "\t\tif (tid < s) {\n",
        "\t\t\tshared_memory[tid] += shared_memory[tid + s];\n",
        "\t\t}\n",
        "\t\t__syncthreads();\n",
        "\t}\n",
        "\tif (tid < 32) {\n",
        "\t\twarpReduce(shared_memory, tid);\n",
        "\t}\n",
        "\t// Поток 0 для определенного блока результат будет писать в основную память\n",
        "\t// А результат индексируется этим блоком\n",
        "\tif (tid == 0) {\n",
        "\t\tres[blockIdx.x] = shared_memory[0];\n",
        "\t}\n",
        "}\n",
        "\"\"\"\n",
        "\n",
        "vecsum = compiler.SourceModule(vecsum_kernel).get_function(\"vecSumKernel\")\n"
      ],
      "execution_count": 4,
      "outputs": []
    },
    {
      "cell_type": "markdown",
      "metadata": {
        "id": "ZiyqjK10xYfL"
      },
      "source": [
        "Расчёт времени суммирования вектора"
      ]
    },
    {
      "cell_type": "code",
      "metadata": {
        "colab": {
          "base_uri": "https://localhost:8080/"
        },
        "id": "7Wr6r_trK07r",
        "outputId": "85f79697-e230-41d6-84da-bfbfed872cbf"
      },
      "source": [
        "mean_times_Numpy_vecsum = []     # Средние времена суммирования с numpu (numpy.sum())\n",
        "mean_times_Python_vecsum = []    # Средние времена суммирования со стандартным sum()\n",
        "mean_times_GPU_vecsum = []      # Массив, содержащий средние времена вычислений на GPU\n",
        "sizes = np.array([2**i for i in range(10, 20)])   \n",
        "count_iteration = 10            # Количество итераций без \"холодного старта\"\n",
        "BLOCK_SIZE = 512                # Размерность одного блока\n",
        "\n",
        "for size in sizes:\n",
        "  # Создание данных и выделение памяти на CPU\n",
        "  host_vec = np.ones(size, dtype=np.int32)\n",
        "  host_res = np.zeros(size, dtype=np.int32)\n",
        "  \n",
        "\n",
        "  dev_vec = cuda.mem_alloc(host_vec.nbytes)\n",
        "  dev_res = cuda.mem_alloc(host_res.nbytes)\n",
        "\n",
        "  bdim = (BLOCK_SIZE, 1, 1)\n",
        "  grid_dim = int((size + BLOCK_SIZE - 1) / (BLOCK_SIZE * 2))\n",
        "\n",
        "  # Массивы с временами на соответствующем устройстве для вычисления среднего \n",
        "  times_Numpy_vecsum = []\n",
        "  times_Python_vecsum = []\n",
        "  times_GPU_vecsum = []\n",
        "  python_sum = 0\n",
        "  numpy_sum = 0\n",
        "\n",
        "  for _ in range(count_iteration + 1):\n",
        "\n",
        "    # Вычисление времени на GPU (с учётом пересылки данных)\n",
        "    start_time = time()\n",
        "    cuda.memcpy_htod(dev_vec, host_vec)\n",
        "    cuda.memcpy_htod(dev_res, host_res)\n",
        "    vecsum(dev_vec, dev_res, block=(BLOCK_SIZE, 1, 1), grid=(grid_dim, 1))\n",
        "    vecsum(dev_res, dev_res, block=(BLOCK_SIZE, 1, 1), grid=(1, 1))\n",
        "    cuda.memcpy_dtoh(host_res, dev_res)\n",
        "    end_time = time()\n",
        "    times_GPU_vecsum.append(end_time - start_time)\n",
        "\n",
        "    # Суммирование с помощью стандартного sum\n",
        "    start_time = time()\n",
        "    python_sum = sum(host_vec)\n",
        "    end_time = time()\n",
        "    times_Python_vecsum.append(end_time - start_time)\n",
        "\n",
        "    # Суммирование с помощью numpy\n",
        "    start_time = time()\n",
        "    numpy_sum = np.sum(host_vec)\n",
        "    end_time = time()\n",
        "    times_Numpy_vecsum.append(end_time - start_time)\n",
        "\n",
        "\n",
        "  # Вычтсление среднего значения времени без \"холодного старта\"\n",
        "  mean_times_GPU_vecsum.append(np.mean(times_GPU_vecsum[1:]))\n",
        "  mean_times_Python_vecsum.append(np.mean(times_Python_vecsum[1:]))\n",
        "  mean_times_Numpy_vecsum.append(np.mean(times_Numpy_vecsum[1:]))\n",
        "\n",
        "  # Сравнение результатов\n",
        "  print(f\"Size = {size}; Grid = {grid_dim}.\\t Numpy: {numpy_sum}\\tPython: {python_sum}\\tGPU: {host_res[0]}\\\n",
        "        \\t{numpy_sum == python_sum == host_res[0]}\")\n",
        "\n",
        "print(f\"GPU = {mean_times_GPU_vecsum}\")\n",
        "print(f\"Python = {mean_times_Python_vecsum}\")\n",
        "print(f\"Numpy = {mean_times_Numpy_vecsum}\")"
      ],
      "execution_count": 5,
      "outputs": [
        {
          "output_type": "stream",
          "name": "stdout",
          "text": [
            "Size = 1024; Grid = 1.\t Numpy: 1024\tPython: 1024\tGPU: 1024        \tTrue\n",
            "Size = 2048; Grid = 2.\t Numpy: 2048\tPython: 2048\tGPU: 2048        \tTrue\n",
            "Size = 4096; Grid = 4.\t Numpy: 4096\tPython: 4096\tGPU: 4096        \tTrue\n",
            "Size = 8192; Grid = 8.\t Numpy: 8192\tPython: 8192\tGPU: 8192        \tTrue\n",
            "Size = 16384; Grid = 16.\t Numpy: 16384\tPython: 16384\tGPU: 16384        \tTrue\n",
            "Size = 32768; Grid = 32.\t Numpy: 32768\tPython: 32768\tGPU: 32768        \tTrue\n",
            "Size = 65536; Grid = 64.\t Numpy: 65536\tPython: 65536\tGPU: 65536        \tTrue\n",
            "Size = 131072; Grid = 128.\t Numpy: 131072\tPython: 131072\tGPU: 131072        \tTrue\n",
            "Size = 262144; Grid = 256.\t Numpy: 262144\tPython: 262144\tGPU: 262144        \tTrue\n",
            "Size = 524288; Grid = 512.\t Numpy: 524288\tPython: 524288\tGPU: 524288        \tTrue\n",
            "GPU = [9.360313415527344e-05, 0.00010733604431152343, 0.000118255615234375, 0.00012750625610351561, 0.0002947807312011719, 0.00020475387573242186, 0.000786590576171875, 0.0008138656616210937, 0.0013946771621704101, 0.001772022247314453]\n",
            "Python = [0.0002862691879272461, 0.0005393028259277344, 0.0011003732681274414, 0.0020279645919799804, 0.004430079460144043, 0.009667491912841797, 0.018770360946655275, 0.035921120643615724, 0.07260019779205322, 0.1467893362045288]\n",
            "Numpy = [1.9097328186035155e-05, 1.7905235290527342e-05, 2.6631355285644532e-05, 2.8395652770996092e-05, 4.742145538330078e-05, 9.97304916381836e-05, 0.00042426586151123047, 0.00026578903198242186, 0.0004822492599487305, 0.0008723020553588867]\n"
          ]
        }
      ]
    },
    {
      "cell_type": "markdown",
      "metadata": {
        "id": "fbwgRnHx2_eC"
      },
      "source": [
        "Сравнение скоростей трёх реализаций"
      ]
    },
    {
      "cell_type": "code",
      "metadata": {
        "id": "BRDVZp89wuzR",
        "colab": {
          "base_uri": "https://localhost:8080/",
          "height": 623
        },
        "outputId": "bd8b7cdc-0de3-40ae-dd20-3a9afbd95177"
      },
      "source": [
        "fig, axes = plt.subplots(3, 1, figsize=(10, 10))\n",
        "axes[0].plot(sizes, mean_times_Numpy_vecsum, color=\"black\", label=\"Numpy\")\n",
        "axes[0].legend()\n",
        "axes[0].set_ylabel(\"Время, с\")\n",
        "axes[1].plot(sizes, mean_times_Python_vecsum, color=\"blue\", label=\"Python\")\n",
        "axes[1].legend()\n",
        "axes[1].set_ylabel(\"Время, с\")\n",
        "axes[2].plot(sizes, mean_times_GPU_vecsum, color=\"red\", label=\"GPU\")\n",
        "axes[2].legend()\n",
        "axes[2].set_ylabel(\"Время, с\")\n",
        "axes[2].set_xlabel(\"Размерность, N\")"
      ],
      "execution_count": 6,
      "outputs": [
        {
          "output_type": "execute_result",
          "data": {
            "text/plain": [
              "Text(0.5, 0, 'Размерность, N')"
            ]
          },
          "metadata": {},
          "execution_count": 6
        },
        {
          "output_type": "display_data",
          "data": {
            "image/png": "[encoded data removed]",
            "text/plain": [
              "<Figure size 720x720 with 3 Axes>"
            ]
          },
          "metadata": {
            "needs_background": "light"
          }
        }
      ]
    },
    {
      "cell_type": "markdown",
      "metadata": {
        "id": "DNLv9w7W3hh5"
      },
      "source": [
        "Визуализация ускорения на GPU"
      ]
    },
    {
      "cell_type": "code",
      "metadata": {
        "id": "pxMw3MXIuCij",
        "colab": {
          "base_uri": "https://localhost:8080/",
          "height": 638
        },
        "outputId": "ff0c5d72-68c1-4f55-8779-e3f8e70a04f9"
      },
      "source": [
        "fig, axes = plt.subplots(2, 1, figsize=(10, 10))\n",
        "axes[0].plot(sizes, np.array(mean_times_Python_vecsum) / np.array(mean_times_GPU_vecsum), label=\"Python\")\n",
        "axes[1].plot(sizes, np.array(mean_times_Numpy_vecsum) / np.array(mean_times_GPU_vecsum), label=\"Numpy\")\n",
        "axes[0].set_title(\"Отношение времени на CPU к времени на GPU\")\n",
        "axes[1].set_xlabel(\"Размерность вектора\")\n",
        "axes[0].legend()\n",
        "axes[1].legend()"
      ],
      "execution_count": 7,
      "outputs": [
        {
          "output_type": "execute_result",
          "data": {
            "text/plain": [
              "<matplotlib.legend.Legend at 0x7f20f8c53090>"
            ]
          },
          "metadata": {},
          "execution_count": 7
        },
        {
          "output_type": "display_data",
          "data": {
            "image/png": "[encoded data removed]",
            "text/plain": [
              "<Figure size 720x720 with 2 Axes>"
            ]
          },
          "metadata": {
            "needs_background": "light"
          }
        }
      ]
    },
    {
      "cell_type": "markdown",
      "metadata": {
        "id": "riSLzmap4HSt"
      },
      "source": [
        "Сохранение результатов в excel"
      ]
    },
    {
      "cell_type": "code",
      "metadata": {
        "id": "8aMme_ZoQmBx",
        "colab": {
          "base_uri": "https://localhost:8080/",
          "height": 360
        },
        "outputId": "62484adb-01ac-4b32-e3bc-e343d21c7f25"
      },
      "source": [
        "df = pd.DataFrame({\"Numpy\": mean_times_Numpy_vecsum, \"Python\": mean_times_Python_vecsum, \"GPU\": mean_times_GPU_vecsum}, index=sizes)\n",
        "df.to_excel(\"CPU and GPU.xlsx\")\n",
        "df"
      ],
      "execution_count": 8,
      "outputs": [
        {
          "output_type": "execute_result",
          "data": {
            "text/html": [
              "<div>\n",
              "<style scoped>\n",
              "    .dataframe tbody tr th:only-of-type {\n",
              "        vertical-align: middle;\n",
              "    }\n",
              "\n",
              "    .dataframe tbody tr th {\n",
              "        vertical-align: top;\n",
              "    }\n",
              "\n",
              "    .dataframe thead th {\n",
              "        text-align: right;\n",
              "    }\n",
              "</style>\n",
              "<table border=\"1\" class=\"dataframe\">\n",
              "  <thead>\n",
              "    <tr style=\"text-align: right;\">\n",
              "      <th></th>\n",
              "      <th>Numpy</th>\n",
              "      <th>Python</th>\n",
              "      <th>GPU</th>\n",
              "    </tr>\n",
              "  </thead>\n",
              "  <tbody>\n",
              "    <tr>\n",
              "      <th>1024</th>\n",
              "      <td>0.000019</td>\n",
              "      <td>0.000286</td>\n",
              "      <td>0.000094</td>\n",
              "    </tr>\n",
              "    <tr>\n",
              "      <th>2048</th>\n",
              "      <td>0.000018</td>\n",
              "      <td>0.000539</td>\n",
              "      <td>0.000107</td>\n",
              "    </tr>\n",
              "    <tr>\n",
              "      <th>4096</th>\n",
              "      <td>0.000027</td>\n",
              "      <td>0.001100</td>\n",
              "      <td>0.000118</td>\n",
              "    </tr>\n",
              "    <tr>\n",
              "      <th>8192</th>\n",
              "      <td>0.000028</td>\n",
              "      <td>0.002028</td>\n",
              "      <td>0.000128</td>\n",
              "    </tr>\n",
              "    <tr>\n",
              "      <th>16384</th>\n",
              "      <td>0.000047</td>\n",
              "      <td>0.004430</td>\n",
              "      <td>0.000295</td>\n",
              "    </tr>\n",
              "    <tr>\n",
              "      <th>32768</th>\n",
              "      <td>0.000100</td>\n",
              "      <td>0.009667</td>\n",
              "      <td>0.000205</td>\n",
              "    </tr>\n",
              "    <tr>\n",
              "      <th>65536</th>\n",
              "      <td>0.000424</td>\n",
              "      <td>0.018770</td>\n",
              "      <td>0.000787</td>\n",
              "    </tr>\n",
              "    <tr>\n",
              "      <th>131072</th>\n",
              "      <td>0.000266</td>\n",
              "      <td>0.035921</td>\n",
              "      <td>0.000814</td>\n",
              "    </tr>\n",
              "    <tr>\n",
              "      <th>262144</th>\n",
              "      <td>0.000482</td>\n",
              "      <td>0.072600</td>\n",
              "      <td>0.001395</td>\n",
              "    </tr>\n",
              "    <tr>\n",
              "      <th>524288</th>\n",
              "      <td>0.000872</td>\n",
              "      <td>0.146789</td>\n",
              "      <td>0.001772</td>\n",
              "    </tr>\n",
              "  </tbody>\n",
              "</table>\n",
              "</div>"
            ],
            "text/plain": [
              "           Numpy    Python       GPU\n",
              "1024    0.000019  0.000286  0.000094\n",
              "2048    0.000018  0.000539  0.000107\n",
              "4096    0.000027  0.001100  0.000118\n",
              "8192    0.000028  0.002028  0.000128\n",
              "16384   0.000047  0.004430  0.000295\n",
              "32768   0.000100  0.009667  0.000205\n",
              "65536   0.000424  0.018770  0.000787\n",
              "131072  0.000266  0.035921  0.000814\n",
              "262144  0.000482  0.072600  0.001395\n",
              "524288  0.000872  0.146789  0.001772"
            ]
          },
          "metadata": {},
          "execution_count": 8
        }
      ]
    }
  ]
}