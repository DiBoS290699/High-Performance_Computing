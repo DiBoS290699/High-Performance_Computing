{
  "nbformat": 4,
  "nbformat_minor": 0,
  "metadata": {
    "colab": {
      "name": "Lab2_HPC.ipynb",
      "provenance": [],
      "collapsed_sections": []
    },
    "kernelspec": {
      "name": "python3",
      "display_name": "Python 3"
    },
    "language_info": {
      "name": "python"
    },
    "accelerator": "GPU"
  },
  "cells": [
    {
      "cell_type": "markdown",
      "metadata": {
        "id": "IF4rHmhktbSn"
      },
      "source": [
        "# Borisov Dmitriy (6133-010402D)"
      ]
    },
    {
      "cell_type": "markdown",
      "metadata": {
        "id": "CKqTgTdfwonn"
      },
      "source": [
        "Установка библиотеки numba"
      ]
    },
    {
      "cell_type": "code",
      "metadata": {
        "id": "kjzfL3_27EvO",
        "colab": {
          "base_uri": "https://localhost:8080/"
        },
        "outputId": "f53e81ed-5cda-467f-d161-9aa328d5ace2"
      },
      "source": [
        "!pip install numba"
      ],
      "execution_count": 1,
      "outputs": [
        {
          "output_type": "stream",
          "name": "stdout",
          "text": [
            "Requirement already satisfied: numba in /usr/local/lib/python3.7/dist-packages (0.51.2)\n",
            "Requirement already satisfied: llvmlite<0.35,>=0.34.0.dev0 in /usr/local/lib/python3.7/dist-packages (from numba) (0.34.0)\n",
            "Requirement already satisfied: setuptools in /usr/local/lib/python3.7/dist-packages (from numba) (57.4.0)\n",
            "Requirement already satisfied: numpy>=1.15 in /usr/local/lib/python3.7/dist-packages (from numba) (1.19.5)\n"
          ]
        }
      ]
    },
    {
      "cell_type": "code",
      "metadata": {
        "id": "HkZM79qDCdLN"
      },
      "source": [
        "import numpy as np\n",
        "import pandas as pd\n",
        "from time import time\n",
        "import matplotlib.pyplot as plt\n",
        "\n",
        "from numba import cuda\n",
        "from numba.cuda.random import create_xoroshiro128p_states, xoroshiro128p_uniform_float32"
      ],
      "execution_count": 2,
      "outputs": []
    },
    {
      "cell_type": "markdown",
      "metadata": {
        "id": "8SjLPiy6xEMC"
      },
      "source": [
        "GPU-реализация вычисления числа pi"
      ]
    },
    {
      "cell_type": "code",
      "metadata": {
        "id": "TDg_GXHoD99S"
      },
      "source": [
        "@cuda.jit\n",
        "def gpu_pi_calculating(pi, coef, states):\n",
        "\ttidx = cuda.threadIdx.x + cuda.blockDim.x * cuda.blockIdx.x\n",
        "\tx = xoroshiro128p_uniform_float32(states, tidx)\n",
        "\ty = xoroshiro128p_uniform_float32(states, tidx)\n",
        "\tif x*x + y*y < 1:\n",
        "\t\tcuda.atomic.add(pi, 0, coef)"
      ],
      "execution_count": 3,
      "outputs": []
    },
    {
      "cell_type": "markdown",
      "metadata": {
        "id": "nJOZ8kBoDtBA"
      },
      "source": [
        "CPU-реализация вычисления числа pi"
      ]
    },
    {
      "cell_type": "code",
      "metadata": {
        "id": "Jp2XGGqkSJmv"
      },
      "source": [
        "def cpu_pi_calculating(size):\n",
        "  result = 0\n",
        "  coef = 4/size\n",
        "  pnts = np.random.rand(size, 2)\n",
        "  for x, y in pnts:\n",
        "    result += coef if (x*x + y*y) < 1 else 0\n",
        "  return result"
      ],
      "execution_count": 4,
      "outputs": []
    },
    {
      "cell_type": "markdown",
      "metadata": {
        "id": "ZiyqjK10xYfL"
      },
      "source": [
        "Сравнение подходов"
      ]
    },
    {
      "cell_type": "code",
      "metadata": {
        "id": "7Wr6r_trK07r",
        "colab": {
          "base_uri": "https://localhost:8080/",
          "height": 286
        },
        "outputId": "4ab5f75e-376c-4a99-bac4-18c8c2eaec94"
      },
      "source": [
        "sizes = np.array([1024, 5120, 10240, 51200, 102400, 512000, 1024000])\n",
        "iterations = 10               # Количество итераций без \"холодного старта\"\n",
        "_iterations = iterations + 1  # Количество итераций с \"холодным стартом\"\n",
        "BLOCK_SIZE = 1024                # Размерность одного блока\n",
        "\n",
        "\"\"\"\n",
        "Словарь значений для сравнения подходов,\n",
        "где среднее отклонение является средним модулем разности между истинным \n",
        "значением pi и подсчитанным.\n",
        "\"\"\"\n",
        "values = {\"Размерности\":sizes,\n",
        "          \"CPU:Среднее время\":np.zeros(len(sizes)),\n",
        "          \"GPU:Среднее время\":np.zeros(len(sizes)), \n",
        "          \"CPU:Среднее отклонение\":np.zeros(len(sizes)), \n",
        "          \"GPU:Среднее отклонение\":np.zeros(len(sizes)),\n",
        "          \"CPU:Последнее значение pi\":np.zeros(len(sizes)),\n",
        "          \"GPU:Последнее значение pi\":np.zeros(len(sizes))}\n",
        "\n",
        "for i_size in range(len(sizes)):\n",
        "\n",
        "  coef = np.float32(4/sizes[i_size])\n",
        "\n",
        "  grid_dim = int((sizes[i_size] + BLOCK_SIZE - 1) / BLOCK_SIZE)\n",
        "\n",
        "  # Массивы с временами на соответствующем устройстве для вычисления среднего \n",
        "  iter_values = {\"CPU:Время\":np.zeros(_iterations), \n",
        "                 \"GPU:Время\":np.zeros(_iterations), \n",
        "                 \"CPU:Отклонение\":np.zeros(_iterations), \n",
        "                 \"GPU:Отклонение\":np.zeros(_iterations)}\n",
        "\n",
        "  for iter in range(_iterations):\n",
        "    gpu_pi = np.zeros(1, dtype=np.float32)\n",
        "    cpu_pi = 0\n",
        "\n",
        "    # Вычисление времени на GPU (с учётом пересылки данных)\n",
        "    start_time = time()\n",
        "    # Создание генератора случайных чисел\n",
        "    states = create_xoroshiro128p_states(n=grid_dim * BLOCK_SIZE, seed=123)\n",
        "    # Запуск GPU-реализации\n",
        "    gpu_pi_calculating[grid_dim, BLOCK_SIZE](gpu_pi, coef, states)\n",
        "    end_time = time()\n",
        "    iter_values[\"GPU:Время\"][iter] = end_time - start_time\n",
        "    iter_values[\"GPU:Отклонение\"][iter] = np.abs(np.pi - gpu_pi[0])\n",
        "\n",
        "    # Суммирование с помощью стандартного sum\n",
        "    start_time = time()\n",
        "    cpu_pi = cpu_pi_calculating(sizes[i_size])\n",
        "    end_time = time()\n",
        "    iter_values[\"CPU:Время\"][iter] = end_time - start_time\n",
        "    iter_values[\"CPU:Отклонение\"][iter] = np.abs(np.pi - cpu_pi)\n",
        "\n",
        "\n",
        "  # Вычисление среднего значения времени без \"холодного старта\"\n",
        "  values[\"GPU:Среднее время\"][i_size] = np.mean(iter_values[\"GPU:Время\"][1:])\n",
        "  values[\"CPU:Среднее время\"][i_size] = np.mean(iter_values[\"CPU:Время\"][1:])\n",
        "  values[\"CPU:Среднее отклонение\"][i_size] = np.mean(iter_values[\"CPU:Отклонение\"])\n",
        "  values[\"GPU:Среднее отклонение\"][i_size] = np.mean(iter_values[\"GPU:Отклонение\"])\n",
        "  values[\"CPU:Последнее значение pi\"][i_size] = cpu_pi\n",
        "  values[\"GPU:Последнее значение pi\"][i_size] = gpu_pi[0]\n",
        "\n",
        "# Сравнение результатов\n",
        "results = pd.DataFrame(values)\n",
        "results"
      ],
      "execution_count": 5,
      "outputs": [
        {
          "output_type": "execute_result",
          "data": {
            "text/html": [
              "<div>\n",
              "<style scoped>\n",
              "    .dataframe tbody tr th:only-of-type {\n",
              "        vertical-align: middle;\n",
              "    }\n",
              "\n",
              "    .dataframe tbody tr th {\n",
              "        vertical-align: top;\n",
              "    }\n",
              "\n",
              "    .dataframe thead th {\n",
              "        text-align: right;\n",
              "    }\n",
              "</style>\n",
              "<table border=\"1\" class=\"dataframe\">\n",
              "  <thead>\n",
              "    <tr style=\"text-align: right;\">\n",
              "      <th></th>\n",
              "      <th>Размерности</th>\n",
              "      <th>CPU:Среднее время</th>\n",
              "      <th>GPU:Среднее время</th>\n",
              "      <th>CPU:Среднее отклонение</th>\n",
              "      <th>GPU:Среднее отклонение</th>\n",
              "      <th>CPU:Последнее значение pi</th>\n",
              "      <th>GPU:Последнее значение pi</th>\n",
              "    </tr>\n",
              "  </thead>\n",
              "  <tbody>\n",
              "    <tr>\n",
              "      <th>0</th>\n",
              "      <td>1024</td>\n",
              "      <td>0.001962</td>\n",
              "      <td>0.001917</td>\n",
              "      <td>0.048383</td>\n",
              "      <td>0.028311</td>\n",
              "      <td>3.093750</td>\n",
              "      <td>3.113281</td>\n",
              "    </tr>\n",
              "    <tr>\n",
              "      <th>1</th>\n",
              "      <td>5120</td>\n",
              "      <td>0.009784</td>\n",
              "      <td>0.002690</td>\n",
              "      <td>0.026366</td>\n",
              "      <td>0.027412</td>\n",
              "      <td>3.147656</td>\n",
              "      <td>3.114181</td>\n",
              "    </tr>\n",
              "    <tr>\n",
              "      <th>2</th>\n",
              "      <td>10240</td>\n",
              "      <td>0.019588</td>\n",
              "      <td>0.003984</td>\n",
              "      <td>0.007902</td>\n",
              "      <td>0.035917</td>\n",
              "      <td>3.142188</td>\n",
              "      <td>3.105675</td>\n",
              "    </tr>\n",
              "    <tr>\n",
              "      <th>3</th>\n",
              "      <td>51200</td>\n",
              "      <td>0.096297</td>\n",
              "      <td>0.015043</td>\n",
              "      <td>0.005872</td>\n",
              "      <td>0.007138</td>\n",
              "      <td>3.142031</td>\n",
              "      <td>3.134455</td>\n",
              "    </tr>\n",
              "    <tr>\n",
              "      <th>4</th>\n",
              "      <td>102400</td>\n",
              "      <td>0.194859</td>\n",
              "      <td>0.027940</td>\n",
              "      <td>0.003431</td>\n",
              "      <td>0.004474</td>\n",
              "      <td>3.150352</td>\n",
              "      <td>3.137118</td>\n",
              "    </tr>\n",
              "    <tr>\n",
              "      <th>5</th>\n",
              "      <td>512000</td>\n",
              "      <td>0.963966</td>\n",
              "      <td>0.129409</td>\n",
              "      <td>0.002249</td>\n",
              "      <td>0.013734</td>\n",
              "      <td>3.141258</td>\n",
              "      <td>3.155327</td>\n",
              "    </tr>\n",
              "    <tr>\n",
              "      <th>6</th>\n",
              "      <td>1024000</td>\n",
              "      <td>1.925397</td>\n",
              "      <td>0.252978</td>\n",
              "      <td>0.001260</td>\n",
              "      <td>0.017745</td>\n",
              "      <td>3.139199</td>\n",
              "      <td>3.123848</td>\n",
              "    </tr>\n",
              "  </tbody>\n",
              "</table>\n",
              "</div>"
            ],
            "text/plain": [
              "   Размерности  ...  GPU:Последнее значение pi\n",
              "0         1024  ...                   3.113281\n",
              "1         5120  ...                   3.114181\n",
              "2        10240  ...                   3.105675\n",
              "3        51200  ...                   3.134455\n",
              "4       102400  ...                   3.137118\n",
              "5       512000  ...                   3.155327\n",
              "6      1024000  ...                   3.123848\n",
              "\n",
              "[7 rows x 7 columns]"
            ]
          },
          "metadata": {},
          "execution_count": 5
        }
      ]
    },
    {
      "cell_type": "markdown",
      "metadata": {
        "id": "fbwgRnHx2_eC"
      },
      "source": [
        "Сравнение скоростей подходов"
      ]
    },
    {
      "cell_type": "code",
      "metadata": {
        "id": "BRDVZp89wuzR",
        "colab": {
          "base_uri": "https://localhost:8080/",
          "height": 313
        },
        "outputId": "22ae272a-dd43-4b60-8e4a-02b4cccf6bb8"
      },
      "source": [
        "plt.plot(sizes, results[\"CPU:Среднее время\"], color=\"blue\", label=\"CPU\")\n",
        "plt.plot(sizes, results[\"GPU:Среднее время\"], color=\"red\", label=\"GPU\")\n",
        "plt.title(\"Сравнение времени вычислений\")\n",
        "plt.xlabel(\"Количество точек N, шт\")\n",
        "plt.ylabel(\"Время, с\")\n",
        "plt.grid()\n",
        "plt.legend()"
      ],
      "execution_count": 9,
      "outputs": [
        {
          "output_type": "execute_result",
          "data": {
            "text/plain": [
              "<matplotlib.legend.Legend at 0x7f8e967b43d0>"
            ]
          },
          "metadata": {},
          "execution_count": 9
        },
        {
          "output_type": "display_data",
          "data": {
            "image/png": "[encoded data removed]",
            "text/plain": [
              "<Figure size 432x288 with 1 Axes>"
            ]
          },
          "metadata": {
            "needs_background": "light"
          }
        }
      ]
    },
    {
      "cell_type": "markdown",
      "metadata": {
        "id": "DNLv9w7W3hh5"
      },
      "source": [
        "Визуализация ускорения"
      ]
    },
    {
      "cell_type": "code",
      "metadata": {
        "id": "pxMw3MXIuCij",
        "colab": {
          "base_uri": "https://localhost:8080/",
          "height": 295
        },
        "outputId": "211fe520-1d84-4696-fc06-b83ce8330230"
      },
      "source": [
        "plt.plot(sizes, results[\"CPU:Среднее время\"] / results[\"GPU:Среднее время\"])\n",
        "plt.title(\"Ускорение\")\n",
        "plt.xlabel(\"Количество точек N, шт\")\n",
        "plt.ylabel(\"Отношение времени на CPU к времени на GPU\")\n",
        "plt.grid()"
      ],
      "execution_count": 10,
      "outputs": [
        {
          "output_type": "display_data",
          "data": {
            "image/png": "[encoded data removed]",
            "text/plain": [
              "<Figure size 432x288 with 1 Axes>"
            ]
          },
          "metadata": {
            "needs_background": "light"
          }
        }
      ]
    },
    {
      "cell_type": "markdown",
      "metadata": {
        "id": "riSLzmap4HSt"
      },
      "source": [
        "Сохранение результатов в excel"
      ]
    },
    {
      "cell_type": "code",
      "metadata": {
        "id": "8aMme_ZoQmBx"
      },
      "source": [
        "results.to_excel(\"CPU and GPU.xlsx\")"
      ],
      "execution_count": 8,
      "outputs": []
    }
  ]
}