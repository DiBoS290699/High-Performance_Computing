{
  "nbformat": 4,
  "nbformat_minor": 0,
  "metadata": {
    "colab": {
      "name": "Lab3_HPC.ipynb",
      "provenance": [],
      "collapsed_sections": []
    },
    "kernelspec": {
      "name": "python3",
      "display_name": "Python 3"
    },
    "language_info": {
      "name": "python"
    },
    "accelerator": "GPU"
  },
  "cells": [
    {
      "cell_type": "markdown",
      "metadata": {
        "id": "IF4rHmhktbSn"
      },
      "source": [
        "# Borisov Dmitriy (6133-010402D)"
      ]
    },
    {
      "cell_type": "markdown",
      "metadata": {
        "id": "CKqTgTdfwonn"
      },
      "source": [
        "Установка библиотеки numba"
      ]
    },
    {
      "cell_type": "code",
      "metadata": {
        "id": "HkZM79qDCdLN"
      },
      "source": [
        "import numpy as np\n",
        "import pandas as pd\n",
        "from time import time\n",
        "import matplotlib.pyplot as plt\n",
        "\n",
        "from numba import cuda"
      ],
      "execution_count": 1,
      "outputs": []
    },
    {
      "cell_type": "markdown",
      "metadata": {
        "id": "8SjLPiy6xEMC"
      },
      "source": [
        "GPU-реализация массового поиска подстрок"
      ]
    },
    {
      "cell_type": "code",
      "metadata": {
        "id": "TDg_GXHoD99S"
      },
      "source": [
        "@cuda.jit\n",
        "def gpu_mass_search(N: np.ndarray, H: np.ndarray, R: np.ndarray):\n",
        "\t\"\"\"\n",
        "\tРЕАЛИЗАЦИЯ МНОГОПОТОЧНОГО ПОИСКА ПОДСТРОК.\n",
        "\tКаждый поток с абс. индексами x и y рассматривает \n",
        "\tкаждый символ N[y]-подстроки для H[x] символа входного буфера.\n",
        "\tЕсли символ подстроки с индексом k совпал с символом H[x],\n",
        "\tто R[y, x - k] элемент рабочей матрицы декрементируется.\n",
        "\t\"\"\"\n",
        "\t# Получение асболютного значения индекса потока в сетке\n",
        "\tx, y = cuda.grid(2)\n",
        "\t# Рассматриваем каждый символ подстроки\n",
        "\tfor k in range(N.shape[1]):\n",
        "\t\t# Декремент, если символ подстроки совпал с символом входного буффера\n",
        "\t\tif N[y, k] == H[x]:\n",
        "\t\t\t\tR[y, x - k] -= 1\n",
        "\tcuda.syncthreads()"
      ],
      "execution_count": 2,
      "outputs": []
    },
    {
      "cell_type": "markdown",
      "metadata": {
        "id": "nJOZ8kBoDtBA"
      },
      "source": [
        "CPU-реализации массового поиска подстрок"
      ]
    },
    {
      "cell_type": "code",
      "metadata": {
        "id": "Jp2XGGqkSJmv"
      },
      "source": [
        "def cpu_mass_search(N: np.ndarray, H: np.ndarray, R: np.ndarray):\n",
        "  \"\"\"\n",
        "  РЕАЛИЗАЦИЯ ПОСЛЕДОВАТЕЛЬНОГО ПОИСКА ПОДСТРОК БЕЗ \n",
        "                ПРЕДОБРАБОТКИ n_k.\n",
        "  Пробегаемся по каждому элементу (i, j) рабочей матрицы R\n",
        "  и, если k-ый символ подстроки N[i] совпал с H[j], \n",
        "  декрементируем значение R[i, j - k].\n",
        "  \"\"\"\n",
        "  for j in range(R.shape[1]):\n",
        "    for i in range(R.shape[0]):\n",
        "      n = N[i]\n",
        "      for k in range(len(n)):\n",
        "        if n[k] == H[j]:\n",
        "          R[i, j - k] -= 1\n",
        "  return R"
      ],
      "execution_count": 3,
      "outputs": []
    },
    {
      "cell_type": "code",
      "metadata": {
        "id": "o66mOYeGab_E"
      },
      "source": [
        "def cpu_mass_search_with_n_k(N: np.ndarray, H: np.ndarray, n_k: dict, R: np.ndarray):\n",
        "  \"\"\"\n",
        "  РЕАЛИЗАЦИЯ ПОСЛЕДОВАТЕЛЬНОГО ПОИСКА ПОДСТРОК С \n",
        "                ПРЕДОБРАБОТКОЙ n_k.\n",
        "  Пробегаемся по каждому символу входного буффера H,\n",
        "  получаем вхождения (n, k) этого символа в подстроки.\n",
        "  Для каждого (n, k) декрементируем значение R[n, i - k].\n",
        "  \"\"\"\n",
        "  for i in range(len(H)):\n",
        "    n_k_for_H_i = n_k[H[i]]\n",
        "    for n, k in n_k_for_H_i:\n",
        "      R[n, i - k] -= 1\n",
        "  return R"
      ],
      "execution_count": 4,
      "outputs": []
    },
    {
      "cell_type": "code",
      "source": [
        "def get_n_k(alphabet: np.ndarray, N: np.ndarray):\n",
        "  \"\"\"\n",
        "  ПРЕДОБРАБОТКА СИМВОЛОВ АЛФАВИТА.\n",
        "  Создаётся словарь с ключами - элементами алфавита\n",
        "  и значениями - (n, k),\n",
        "  где n - индекс подстроки N[n], \n",
        "  k - индекс символа в подстроке N[n].\n",
        "  Для каждого N[n, k] в словарь для соответствующего символа\n",
        "  заносится кортеж (n, k).\n",
        "  \"\"\"\n",
        "  n_k = dict([(alphabet[i], []) for i in range(len(alphabet))])\n",
        "  for n in range(N.shape[0]):\n",
        "    for k in range(N.shape[1]):\n",
        "      n_k[N[n, k]].append((n, k))\n",
        "  return n_k"
      ],
      "metadata": {
        "id": "ixpG9UezbYFt"
      },
      "execution_count": 5,
      "outputs": []
    },
    {
      "cell_type": "code",
      "source": [
        "def save_result(pathfile: str, N: np.ndarray, H: np.ndarray, \n",
        "                result: np.ndarray, mode='a', sheet_name=''):\n",
        "  \"\"\"\n",
        "  СОХРАНЕНИЕ РЕЗУЛЬТАТОВ ПОИСКА ПОДСТРОК.\n",
        "  \"\"\"\n",
        "  # Для одиннаковой размерности данных result дополняется нулями.\n",
        "  N_i = np.full(len(H), fill_value=None)\n",
        "  position = np.full(len(H), fill_value=None)\n",
        "  N_i[:len(result[0])] = result[0]\n",
        "  position[:len(result[1])] = result[1]\n",
        "\n",
        "  # Приведение списка символов (подстроки) к типу str\n",
        "  # для корректной записи в excel\n",
        "  new_N = [str(n) for n in N]\n",
        "  # Создание DataFrame\n",
        "  df = pd.DataFrame({\"N\": new_N, \"H\": H, \"N_i\": N_i, \n",
        "                     \"Position\": position})\n",
        "  # Если sheet_name не указан, то ставится дефолтное значение длины N\n",
        "  if sheet_name == '':\n",
        "    sheet_name = str(len(N))\n",
        "  \n",
        "  # Если стоит mode='a', то первая запись в файл выдаст ошибку,\n",
        "  # поэтому в этом случае mode меняется на 'w'.\n",
        "  try:\n",
        "    with pd.ExcelWriter(pathfile, mode=mode) as writer:\n",
        "      df.to_excel(writer, sheet_name=sheet_name)\n",
        "  except:\n",
        "    with pd.ExcelWriter(pathfile, mode='w') as writer:\n",
        "      df.to_excel(writer, sheet_name=sheet_name)"
      ],
      "metadata": {
        "id": "KEcHIbZsq50Z"
      },
      "execution_count": 6,
      "outputs": []
    },
    {
      "cell_type": "markdown",
      "metadata": {
        "id": "ZiyqjK10xYfL"
      },
      "source": [
        "Сравнение подходов"
      ]
    },
    {
      "cell_type": "code",
      "metadata": {
        "id": "7Wr6r_trK07r",
        "colab": {
          "base_uri": "https://localhost:8080/",
          "height": 481
        },
        "outputId": "c3795bc5-26d4-4594-8919-2d7b2d1d6081"
      },
      "source": [
        "sizes = np.arange(160, 1600, 160)     # Размерности N и H (160, 320, ..., 1440)\n",
        "iterations = 10                 # Кол-во итераций для подсчёта среднего времени\n",
        "N_CHARS_IN_SUBSTRING = 2        # Кол-во символов в подстроках\n",
        "BLOCK_DIM = 16                  # Размерность оси квадратного блока\n",
        "BLOCK_SIZE = (BLOCK_DIM, BLOCK_DIM)\n",
        "# Входной алфавит символов (0, ... , 255)\n",
        "alphabet = np.arange(256)\n",
        "\n",
        "df = {\"Длина N\":sizes,\n",
        "          \"Длина H\":sizes,\n",
        "          \"GPU\":np.zeros(len(sizes), dtype=float), \n",
        "          \"CPU без n_k\":np.zeros(len(sizes), dtype=float),\n",
        "          \"CPU/GPU без n_k\":np.zeros(len(sizes), dtype=float),\n",
        "          \"CPU с n_k\":np.zeros(len(sizes), dtype=float),\n",
        "          \"CPU/GPU с n_k\":np.zeros(len(sizes), dtype=float),\n",
        "          \"Одиннаковые значения\":np.full(len(sizes), fill_value=True)}\n",
        "\n",
        "df = pd.DataFrame(df, index=sizes)\n",
        "\n",
        "# Вычисления для разных размерностей N и H\n",
        "for size in sizes:\n",
        "\n",
        "  # Случайная генерация подстрок N и входного буффера H\n",
        "  N = np.random.randint(len(alphabet), size=(size, N_CHARS_IN_SUBSTRING), dtype=np.uint8)\n",
        "  H = np.random.randint(len(alphabet), size=size, dtype=np.uint8)\n",
        "\n",
        "  # Получение вхождений символов алфавита в подстроки\n",
        "  n_k = get_n_k(alphabet, N)\n",
        "\n",
        "  # Заполнение рабочей матрицы NxH значениями N_CHARS_IN_SUBSTRING\n",
        "  R = np.full((size, size), fill_value=N_CHARS_IN_SUBSTRING)\n",
        "\n",
        "  # Инициализация сетки блоков\n",
        "  GRID_SIZE = (len(N) // BLOCK_DIM, len(H) // BLOCK_DIM)\n",
        "\n",
        "  # Суммы общего времени за определённое кол-во итерация для реализаций\n",
        "  gpu_common_time = []\n",
        "  cpu_with_n_k_common_time = []\n",
        "  cpu_without_n_k_common_time = []\n",
        "\n",
        "  # Выполнение одних и тех же вычислений для нахождения среднего времени\n",
        "  # с учётом \"холодного старта\"\n",
        "  for _ in range(iterations + 1):\n",
        "\n",
        "    \"\"\"Вычисление времени на GPU (с учётом пересылки данных)\"\"\"\n",
        "    start_time = time()\n",
        "    # Пересылка данных на устройство\n",
        "    dev_N = cuda.to_device(N)\n",
        "    dev_H = cuda.to_device(H)\n",
        "    dev_R = cuda.to_device(R)\n",
        "    \n",
        "    # Запуск вычислений на GPU\n",
        "    gpu_mass_search[GRID_SIZE, BLOCK_SIZE](dev_N, dev_H, dev_R)\n",
        "\n",
        "    # Копирование рабочей матрицы с устройства на хост\n",
        "    host_R = dev_R.copy_to_host()\n",
        "    gpu_common_time.append(time() - start_time)\n",
        "\n",
        "    \"\"\"Вычисление времени на CPU без использования (n, k)\"\"\"\n",
        "    start_time = time()\n",
        "    R_without_n_k = cpu_mass_search(N, H, R.copy())\n",
        "    cpu_without_n_k_common_time.append(time() - start_time)\n",
        "\n",
        "    \"\"\"Вычисление времени на CPU без использования (n, k)\"\"\"\n",
        "    start_time = time()\n",
        "    R_with_n_k = cpu_mass_search_with_n_k(N, H, n_k, R.copy())\n",
        "    cpu_with_n_k_common_time.append(time() - start_time)\n",
        "  \n",
        "  # Запись подсчётов времени и соответствия рабочих матриц\n",
        "  df.loc[size, \"GPU\"] = np.mean(gpu_common_time[1:])\n",
        "  df.loc[size, \"CPU без n_k\"] = np.mean(cpu_without_n_k_common_time[1:])\n",
        "  df.loc[size, \"CPU с n_k\"] = np.mean(cpu_with_n_k_common_time[1:])\n",
        "  df.loc[size, \"Одиннаковые значения\"] = np.array_equal(host_R, R_without_n_k) # and np.array_equal(R_with_n_k, R_without_n_k)\n",
        "\n",
        "  # Получение списка найденных подстрок\n",
        "  result = np.array(np.where(host_R == 0))\n",
        "\n",
        "  # Сохранение результатов в файл xlsx с несколькими листами\n",
        "  save_result(\"found_substrings.xlsx\", N, H, result, sheet_name=f'Размер {size}')\n",
        "  print(f\"Результаты поиска при длине H равном {size} успешно сохранены\")\n",
        "\n",
        "# Запись значений ускорения GPU над CPU\n",
        "df[\"CPU/GPU без n_k\"] = df[\"CPU без n_k\"] / df[\"GPU\"]\n",
        "df[\"CPU/GPU с n_k\"] = df[\"CPU с n_k\"] / df[\"GPU\"]\n",
        "# Вывод результатов на экран\n",
        "df"
      ],
      "execution_count": 7,
      "outputs": [
        {
          "output_type": "stream",
          "name": "stdout",
          "text": [
            "Результаты поиска при длине H равном 160 успешно сохранены\n",
            "Результаты поиска при длине H равном 320 успешно сохранены\n",
            "Результаты поиска при длине H равном 480 успешно сохранены\n",
            "Результаты поиска при длине H равном 640 успешно сохранены\n",
            "Результаты поиска при длине H равном 800 успешно сохранены\n",
            "Результаты поиска при длине H равном 960 успешно сохранены\n",
            "Результаты поиска при длине H равном 1120 успешно сохранены\n",
            "Результаты поиска при длине H равном 1280 успешно сохранены\n",
            "Результаты поиска при длине H равном 1440 успешно сохранены\n"
          ]
        },
        {
          "output_type": "execute_result",
          "data": {
            "text/html": [
              "\n",
              "  <div id=\"df-000d0485-a976-4e63-9da2-54d2040afbc3\">\n",
              "    <div class=\"colab-df-container\">\n",
              "      <div>\n",
              "<style scoped>\n",
              "    .dataframe tbody tr th:only-of-type {\n",
              "        vertical-align: middle;\n",
              "    }\n",
              "\n",
              "    .dataframe tbody tr th {\n",
              "        vertical-align: top;\n",
              "    }\n",
              "\n",
              "    .dataframe thead th {\n",
              "        text-align: right;\n",
              "    }\n",
              "</style>\n",
              "<table border=\"1\" class=\"dataframe\">\n",
              "  <thead>\n",
              "    <tr style=\"text-align: right;\">\n",
              "      <th></th>\n",
              "      <th>Длина N</th>\n",
              "      <th>Длина H</th>\n",
              "      <th>GPU</th>\n",
              "      <th>CPU без n_k</th>\n",
              "      <th>CPU/GPU без n_k</th>\n",
              "      <th>CPU с n_k</th>\n",
              "      <th>CPU/GPU с n_k</th>\n",
              "      <th>Одиннаковые значения</th>\n",
              "    </tr>\n",
              "  </thead>\n",
              "  <tbody>\n",
              "    <tr>\n",
              "      <th>160</th>\n",
              "      <td>160</td>\n",
              "      <td>160</td>\n",
              "      <td>0.002036</td>\n",
              "      <td>0.034452</td>\n",
              "      <td>16.923616</td>\n",
              "      <td>0.000259</td>\n",
              "      <td>0.127249</td>\n",
              "      <td>True</td>\n",
              "    </tr>\n",
              "    <tr>\n",
              "      <th>320</th>\n",
              "      <td>320</td>\n",
              "      <td>320</td>\n",
              "      <td>0.003841</td>\n",
              "      <td>0.138781</td>\n",
              "      <td>36.135618</td>\n",
              "      <td>0.001401</td>\n",
              "      <td>0.364838</td>\n",
              "      <td>True</td>\n",
              "    </tr>\n",
              "    <tr>\n",
              "      <th>480</th>\n",
              "      <td>480</td>\n",
              "      <td>480</td>\n",
              "      <td>0.006363</td>\n",
              "      <td>0.730779</td>\n",
              "      <td>114.851803</td>\n",
              "      <td>0.005068</td>\n",
              "      <td>0.796481</td>\n",
              "      <td>True</td>\n",
              "    </tr>\n",
              "    <tr>\n",
              "      <th>640</th>\n",
              "      <td>640</td>\n",
              "      <td>640</td>\n",
              "      <td>0.004233</td>\n",
              "      <td>0.584396</td>\n",
              "      <td>138.050069</td>\n",
              "      <td>0.003978</td>\n",
              "      <td>0.939810</td>\n",
              "      <td>True</td>\n",
              "    </tr>\n",
              "    <tr>\n",
              "      <th>800</th>\n",
              "      <td>800</td>\n",
              "      <td>800</td>\n",
              "      <td>0.004966</td>\n",
              "      <td>0.834119</td>\n",
              "      <td>167.955689</td>\n",
              "      <td>0.005951</td>\n",
              "      <td>1.198289</td>\n",
              "      <td>True</td>\n",
              "    </tr>\n",
              "    <tr>\n",
              "      <th>960</th>\n",
              "      <td>960</td>\n",
              "      <td>960</td>\n",
              "      <td>0.005283</td>\n",
              "      <td>1.217520</td>\n",
              "      <td>230.473503</td>\n",
              "      <td>0.008385</td>\n",
              "      <td>1.587312</td>\n",
              "      <td>True</td>\n",
              "    </tr>\n",
              "    <tr>\n",
              "      <th>1120</th>\n",
              "      <td>1120</td>\n",
              "      <td>1120</td>\n",
              "      <td>0.005909</td>\n",
              "      <td>1.628644</td>\n",
              "      <td>275.635812</td>\n",
              "      <td>0.011464</td>\n",
              "      <td>1.940204</td>\n",
              "      <td>True</td>\n",
              "    </tr>\n",
              "    <tr>\n",
              "      <th>1280</th>\n",
              "      <td>1280</td>\n",
              "      <td>1280</td>\n",
              "      <td>0.007064</td>\n",
              "      <td>2.177604</td>\n",
              "      <td>308.278873</td>\n",
              "      <td>0.014429</td>\n",
              "      <td>2.042646</td>\n",
              "      <td>True</td>\n",
              "    </tr>\n",
              "    <tr>\n",
              "      <th>1440</th>\n",
              "      <td>1440</td>\n",
              "      <td>1440</td>\n",
              "      <td>0.008417</td>\n",
              "      <td>2.954404</td>\n",
              "      <td>351.019891</td>\n",
              "      <td>0.017629</td>\n",
              "      <td>2.094525</td>\n",
              "      <td>True</td>\n",
              "    </tr>\n",
              "  </tbody>\n",
              "</table>\n",
              "</div>\n",
              "      <button class=\"colab-df-convert\" onclick=\"convertToInteractive('df-000d0485-a976-4e63-9da2-54d2040afbc3')\"\n",
              "              title=\"Convert this dataframe to an interactive table.\"\n",
              "              style=\"display:none;\">\n",
              "        \n",
              "  <svg xmlns=\"http://www.w3.org/2000/svg\" height=\"24px\"viewBox=\"0 0 24 24\"\n",
              "       width=\"24px\">\n",
              "    <path d=\"M0 0h24v24H0V0z\" fill=\"none\"/>\n",
              "    <path d=\"M18.56 5.44l.94 2.06.94-2.06 2.06-.94-2.06-.94-.94-2.06-.94 2.06-2.06.94zm-11 1L8.5 8.5l.94-2.06 2.06-.94-2.06-.94L8.5 2.5l-.94 2.06-2.06.94zm10 10l.94 2.06.94-2.06 2.06-.94-2.06-.94-.94-2.06-.94 2.06-2.06.94z\"/><path d=\"M17.41 7.96l-1.37-1.37c-.4-.4-.92-.59-1.43-.59-.52 0-1.04.2-1.43.59L10.3 9.45l-7.72 7.72c-.78.78-.78 2.05 0 2.83L4 21.41c.39.39.9.59 1.41.59.51 0 1.02-.2 1.41-.59l7.78-7.78 2.81-2.81c.8-.78.8-2.07 0-2.86zM5.41 20L4 18.59l7.72-7.72 1.47 1.35L5.41 20z\"/>\n",
              "  </svg>\n",
              "      </button>\n",
              "      \n",
              "  <style>\n",
              "    .colab-df-container {\n",
              "      display:flex;\n",
              "      flex-wrap:wrap;\n",
              "      gap: 12px;\n",
              "    }\n",
              "\n",
              "    .colab-df-convert {\n",
              "      background-color: #E8F0FE;\n",
              "      border: none;\n",
              "      border-radius: 50%;\n",
              "      cursor: pointer;\n",
              "      display: none;\n",
              "      fill: #1967D2;\n",
              "      height: 32px;\n",
              "      padding: 0 0 0 0;\n",
              "      width: 32px;\n",
              "    }\n",
              "\n",
              "    .colab-df-convert:hover {\n",
              "      background-color: #E2EBFA;\n",
              "      box-shadow: 0px 1px 2px rgba(60, 64, 67, 0.3), 0px 1px 3px 1px rgba(60, 64, 67, 0.15);\n",
              "      fill: #174EA6;\n",
              "    }\n",
              "\n",
              "    [theme=dark] .colab-df-convert {\n",
              "      background-color: #3B4455;\n",
              "      fill: #D2E3FC;\n",
              "    }\n",
              "\n",
              "    [theme=dark] .colab-df-convert:hover {\n",
              "      background-color: #434B5C;\n",
              "      box-shadow: 0px 1px 3px 1px rgba(0, 0, 0, 0.15);\n",
              "      filter: drop-shadow(0px 1px 2px rgba(0, 0, 0, 0.3));\n",
              "      fill: #FFFFFF;\n",
              "    }\n",
              "  </style>\n",
              "\n",
              "      <script>\n",
              "        const buttonEl =\n",
              "          document.querySelector('#df-000d0485-a976-4e63-9da2-54d2040afbc3 button.colab-df-convert');\n",
              "        buttonEl.style.display =\n",
              "          google.colab.kernel.accessAllowed ? 'block' : 'none';\n",
              "\n",
              "        async function convertToInteractive(key) {\n",
              "          const element = document.querySelector('#df-000d0485-a976-4e63-9da2-54d2040afbc3');\n",
              "          const dataTable =\n",
              "            await google.colab.kernel.invokeFunction('convertToInteractive',\n",
              "                                                     [key], {});\n",
              "          if (!dataTable) return;\n",
              "\n",
              "          const docLinkHtml = 'Like what you see? Visit the ' +\n",
              "            '<a target=\"_blank\" href=https://colab.research.google.com/notebooks/data_table.ipynb>data table notebook</a>'\n",
              "            + ' to learn more about interactive tables.';\n",
              "          element.innerHTML = '';\n",
              "          dataTable['output_type'] = 'display_data';\n",
              "          await google.colab.output.renderOutput(dataTable, element);\n",
              "          const docLink = document.createElement('div');\n",
              "          docLink.innerHTML = docLinkHtml;\n",
              "          element.appendChild(docLink);\n",
              "        }\n",
              "      </script>\n",
              "    </div>\n",
              "  </div>\n",
              "  "
            ],
            "text/plain": [
              "      Длина N  Длина H  ...  CPU/GPU с n_k  Одиннаковые значения\n",
              "160       160      160  ...       0.127249                  True\n",
              "320       320      320  ...       0.364838                  True\n",
              "480       480      480  ...       0.796481                  True\n",
              "640       640      640  ...       0.939810                  True\n",
              "800       800      800  ...       1.198289                  True\n",
              "960       960      960  ...       1.587312                  True\n",
              "1120     1120     1120  ...       1.940204                  True\n",
              "1280     1280     1280  ...       2.042646                  True\n",
              "1440     1440     1440  ...       2.094525                  True\n",
              "\n",
              "[9 rows x 8 columns]"
            ]
          },
          "metadata": {},
          "execution_count": 7
        }
      ]
    },
    {
      "cell_type": "markdown",
      "metadata": {
        "id": "fbwgRnHx2_eC"
      },
      "source": [
        "Сравнение скоростей подходов"
      ]
    },
    {
      "cell_type": "code",
      "metadata": {
        "id": "BRDVZp89wuzR",
        "colab": {
          "base_uri": "https://localhost:8080/",
          "height": 312
        },
        "outputId": "abced22b-e7e2-4e28-f76b-1160efb4b65e"
      },
      "source": [
        "df.plot(x=\"Длина N\", y=[\"GPU\", \"CPU с n_k\"], \n",
        "        legend=True, grid=True,\n",
        "        title=\"Сравнение времени вычислений\",\n",
        "        xlabel=\"Длина N\", ylabel=\"Время, с\")"
      ],
      "execution_count": 8,
      "outputs": [
        {
          "output_type": "execute_result",
          "data": {
            "text/plain": [
              "<matplotlib.axes._subplots.AxesSubplot at 0x7fafdf5e5190>"
            ]
          },
          "metadata": {},
          "execution_count": 8
        },
        {
          "output_type": "display_data",
          "data": {
            "image/png": "[encoded data removed]",
            "text/plain": [
              "<Figure size 432x288 with 1 Axes>"
            ]
          },
          "metadata": {
            "needs_background": "light"
          }
        }
      ]
    },
    {
      "cell_type": "code",
      "source": [
        "df.plot(x=\"Длина N\", y=[\"GPU\", \"CPU без n_k\"], \n",
        "        legend=True, grid=True,\n",
        "        title=\"Сравнение времени вычислений\",\n",
        "        xlabel=\"Длина N\", ylabel=\"Время, с\")"
      ],
      "metadata": {
        "colab": {
          "base_uri": "https://localhost:8080/",
          "height": 312
        },
        "id": "WwO_XMBs5nqc",
        "outputId": "ec31176a-9fcf-4d17-ed56-d1f3acc57f3a"
      },
      "execution_count": 9,
      "outputs": [
        {
          "output_type": "execute_result",
          "data": {
            "text/plain": [
              "<matplotlib.axes._subplots.AxesSubplot at 0x7fafd3a8b510>"
            ]
          },
          "metadata": {},
          "execution_count": 9
        },
        {
          "output_type": "display_data",
          "data": {
            "image/png": "[encoded data removed]",
            "text/plain": [
              "<Figure size 432x288 with 1 Axes>"
            ]
          },
          "metadata": {
            "needs_background": "light"
          }
        }
      ]
    },
    {
      "cell_type": "markdown",
      "metadata": {
        "id": "DNLv9w7W3hh5"
      },
      "source": [
        "Визуализация ускорения"
      ]
    },
    {
      "cell_type": "code",
      "metadata": {
        "id": "pxMw3MXIuCij",
        "colab": {
          "base_uri": "https://localhost:8080/",
          "height": 332
        },
        "outputId": "81c7903a-fbcf-42a0-f700-56f5549ff21d"
      },
      "source": [
        "df.plot(x=\"Длина N\", y=\"CPU/GPU с n_k\", \n",
        "        legend=True, grid=True, subplots=True, \n",
        "        title=\"Ускорение\",\n",
        "        xlabel=\"Длина N\", ylabel=\"CPU/GPU\")"
      ],
      "execution_count": 10,
      "outputs": [
        {
          "output_type": "execute_result",
          "data": {
            "text/plain": [
              "array([<matplotlib.axes._subplots.AxesSubplot object at 0x7fafd385bd10>],\n",
              "      dtype=object)"
            ]
          },
          "metadata": {},
          "execution_count": 10
        },
        {
          "output_type": "display_data",
          "data": {
            "image/png": "[encoded data removed]",
            "text/plain": [
              "<Figure size 432x288 with 1 Axes>"
            ]
          },
          "metadata": {
            "needs_background": "light"
          }
        }
      ]
    },
    {
      "cell_type": "code",
      "source": [
        "df.plot(x=\"Длина N\", y=\"CPU/GPU без n_k\",\n",
        "        legend=True, grid=True, subplots=True, \n",
        "        title=\"Ускорение\",\n",
        "        xlabel=\"Длина N\", ylabel=\"CPU/GPU\")"
      ],
      "metadata": {
        "colab": {
          "base_uri": "https://localhost:8080/",
          "height": 332
        },
        "id": "XsCrFfwj551d",
        "outputId": "3785b879-d2e8-4588-e6c9-54c74a072a0e"
      },
      "execution_count": 11,
      "outputs": [
        {
          "output_type": "execute_result",
          "data": {
            "text/plain": [
              "array([<matplotlib.axes._subplots.AxesSubplot object at 0x7fafd3b84310>],\n",
              "      dtype=object)"
            ]
          },
          "metadata": {},
          "execution_count": 11
        },
        {
          "output_type": "display_data",
          "data": {
            "image/png": "[encoded data removed]",
            "text/plain": [
              "<Figure size 432x288 with 1 Axes>"
            ]
          },
          "metadata": {
            "needs_background": "light"
          }
        }
      ]
    },
    {
      "cell_type": "markdown",
      "metadata": {
        "id": "riSLzmap4HSt"
      },
      "source": [
        "Сохранение результатов в excel"
      ]
    },
    {
      "cell_type": "code",
      "metadata": {
        "id": "8aMme_ZoQmBx"
      },
      "source": [
        "df.to_excel(\"CPU and GPU.xlsx\")"
      ],
      "execution_count": 12,
      "outputs": []
    }
  ]
}