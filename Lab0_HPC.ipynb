{
  "nbformat": 4,
  "nbformat_minor": 0,
  "metadata": {
    "colab": {
      "name": "Lab0_HPC.ipynb",
      "provenance": [],
      "collapsed_sections": []
    },
    "kernelspec": {
      "name": "python3",
      "display_name": "Python 3"
    },
    "language_info": {
      "name": "python"
    },
    "accelerator": "GPU"
  },
  "cells": [
    {
      "cell_type": "markdown",
      "metadata": {
        "id": "IF4rHmhktbSn"
      },
      "source": [
        "# Borisov Dmitriy (6133-010402D)"
      ]
    },
    {
      "cell_type": "markdown",
      "metadata": {
        "id": "CKqTgTdfwonn"
      },
      "source": [
        "Установка библиотеки pycuda"
      ]
    },
    {
      "cell_type": "code",
      "metadata": {
        "colab": {
          "base_uri": "https://localhost:8080/"
        },
        "id": "kjzfL3_27EvO",
        "outputId": "8e0d3d34-1a4d-45d6-d5c8-63b1f2d209ff"
      },
      "source": [
        "!pip install pycuda"
      ],
      "execution_count": 3,
      "outputs": [
        {
          "output_type": "stream",
          "name": "stdout",
          "text": [
            "Collecting pycuda\n",
            "  Downloading pycuda-2021.1.tar.gz (1.7 MB)\n",
            "\u001b[?25l\r\u001b[K     |▏                               | 10 kB 28.4 MB/s eta 0:00:01\r\u001b[K     |▍                               | 20 kB 22.6 MB/s eta 0:00:01\r\u001b[K     |▋                               | 30 kB 11.7 MB/s eta 0:00:01\r\u001b[K     |▉                               | 40 kB 9.3 MB/s eta 0:00:01\r\u001b[K     |█                               | 51 kB 5.3 MB/s eta 0:00:01\r\u001b[K     |█▏                              | 61 kB 5.8 MB/s eta 0:00:01\r\u001b[K     |█▍                              | 71 kB 5.6 MB/s eta 0:00:01\r\u001b[K     |█▋                              | 81 kB 6.3 MB/s eta 0:00:01\r\u001b[K     |█▊                              | 92 kB 4.8 MB/s eta 0:00:01\r\u001b[K     |██                              | 102 kB 5.2 MB/s eta 0:00:01\r\u001b[K     |██▏                             | 112 kB 5.2 MB/s eta 0:00:01\r\u001b[K     |██▍                             | 122 kB 5.2 MB/s eta 0:00:01\r\u001b[K     |██▌                             | 133 kB 5.2 MB/s eta 0:00:01\r\u001b[K     |██▊                             | 143 kB 5.2 MB/s eta 0:00:01\r\u001b[K     |███                             | 153 kB 5.2 MB/s eta 0:00:01\r\u001b[K     |███▏                            | 163 kB 5.2 MB/s eta 0:00:01\r\u001b[K     |███▎                            | 174 kB 5.2 MB/s eta 0:00:01\r\u001b[K     |███▌                            | 184 kB 5.2 MB/s eta 0:00:01\r\u001b[K     |███▊                            | 194 kB 5.2 MB/s eta 0:00:01\r\u001b[K     |████                            | 204 kB 5.2 MB/s eta 0:00:01\r\u001b[K     |████                            | 215 kB 5.2 MB/s eta 0:00:01\r\u001b[K     |████▎                           | 225 kB 5.2 MB/s eta 0:00:01\r\u001b[K     |████▌                           | 235 kB 5.2 MB/s eta 0:00:01\r\u001b[K     |████▊                           | 245 kB 5.2 MB/s eta 0:00:01\r\u001b[K     |████▉                           | 256 kB 5.2 MB/s eta 0:00:01\r\u001b[K     |█████                           | 266 kB 5.2 MB/s eta 0:00:01\r\u001b[K     |█████▎                          | 276 kB 5.2 MB/s eta 0:00:01\r\u001b[K     |█████▌                          | 286 kB 5.2 MB/s eta 0:00:01\r\u001b[K     |█████▋                          | 296 kB 5.2 MB/s eta 0:00:01\r\u001b[K     |█████▉                          | 307 kB 5.2 MB/s eta 0:00:01\r\u001b[K     |██████                          | 317 kB 5.2 MB/s eta 0:00:01\r\u001b[K     |██████▎                         | 327 kB 5.2 MB/s eta 0:00:01\r\u001b[K     |██████▍                         | 337 kB 5.2 MB/s eta 0:00:01\r\u001b[K     |██████▋                         | 348 kB 5.2 MB/s eta 0:00:01\r\u001b[K     |██████▉                         | 358 kB 5.2 MB/s eta 0:00:01\r\u001b[K     |███████                         | 368 kB 5.2 MB/s eta 0:00:01\r\u001b[K     |███████▏                        | 378 kB 5.2 MB/s eta 0:00:01\r\u001b[K     |███████▍                        | 389 kB 5.2 MB/s eta 0:00:01\r\u001b[K     |███████▋                        | 399 kB 5.2 MB/s eta 0:00:01\r\u001b[K     |███████▉                        | 409 kB 5.2 MB/s eta 0:00:01\r\u001b[K     |████████                        | 419 kB 5.2 MB/s eta 0:00:01\r\u001b[K     |████████▏                       | 430 kB 5.2 MB/s eta 0:00:01\r\u001b[K     |████████▍                       | 440 kB 5.2 MB/s eta 0:00:01\r\u001b[K     |████████▋                       | 450 kB 5.2 MB/s eta 0:00:01\r\u001b[K     |████████▊                       | 460 kB 5.2 MB/s eta 0:00:01\r\u001b[K     |█████████                       | 471 kB 5.2 MB/s eta 0:00:01\r\u001b[K     |█████████▏                      | 481 kB 5.2 MB/s eta 0:00:01\r\u001b[K     |█████████▍                      | 491 kB 5.2 MB/s eta 0:00:01\r\u001b[K     |█████████▌                      | 501 kB 5.2 MB/s eta 0:00:01\r\u001b[K     |█████████▊                      | 512 kB 5.2 MB/s eta 0:00:01\r\u001b[K     |██████████                      | 522 kB 5.2 MB/s eta 0:00:01\r\u001b[K     |██████████▏                     | 532 kB 5.2 MB/s eta 0:00:01\r\u001b[K     |██████████▎                     | 542 kB 5.2 MB/s eta 0:00:01\r\u001b[K     |██████████▌                     | 552 kB 5.2 MB/s eta 0:00:01\r\u001b[K     |██████████▊                     | 563 kB 5.2 MB/s eta 0:00:01\r\u001b[K     |███████████                     | 573 kB 5.2 MB/s eta 0:00:01\r\u001b[K     |███████████                     | 583 kB 5.2 MB/s eta 0:00:01\r\u001b[K     |███████████▎                    | 593 kB 5.2 MB/s eta 0:00:01\r\u001b[K     |███████████▌                    | 604 kB 5.2 MB/s eta 0:00:01\r\u001b[K     |███████████▊                    | 614 kB 5.2 MB/s eta 0:00:01\r\u001b[K     |███████████▉                    | 624 kB 5.2 MB/s eta 0:00:01\r\u001b[K     |████████████                    | 634 kB 5.2 MB/s eta 0:00:01\r\u001b[K     |████████████▎                   | 645 kB 5.2 MB/s eta 0:00:01\r\u001b[K     |████████████▌                   | 655 kB 5.2 MB/s eta 0:00:01\r\u001b[K     |████████████▋                   | 665 kB 5.2 MB/s eta 0:00:01\r\u001b[K     |████████████▉                   | 675 kB 5.2 MB/s eta 0:00:01\r\u001b[K     |█████████████                   | 686 kB 5.2 MB/s eta 0:00:01\r\u001b[K     |█████████████▎                  | 696 kB 5.2 MB/s eta 0:00:01\r\u001b[K     |█████████████▍                  | 706 kB 5.2 MB/s eta 0:00:01\r\u001b[K     |█████████████▋                  | 716 kB 5.2 MB/s eta 0:00:01\r\u001b[K     |█████████████▉                  | 727 kB 5.2 MB/s eta 0:00:01\r\u001b[K     |██████████████                  | 737 kB 5.2 MB/s eta 0:00:01\r\u001b[K     |██████████████▏                 | 747 kB 5.2 MB/s eta 0:00:01\r\u001b[K     |██████████████▍                 | 757 kB 5.2 MB/s eta 0:00:01\r\u001b[K     |██████████████▋                 | 768 kB 5.2 MB/s eta 0:00:01\r\u001b[K     |██████████████▉                 | 778 kB 5.2 MB/s eta 0:00:01\r\u001b[K     |███████████████                 | 788 kB 5.2 MB/s eta 0:00:01\r\u001b[K     |███████████████▏                | 798 kB 5.2 MB/s eta 0:00:01\r\u001b[K     |███████████████▍                | 808 kB 5.2 MB/s eta 0:00:01\r\u001b[K     |███████████████▋                | 819 kB 5.2 MB/s eta 0:00:01\r\u001b[K     |███████████████▊                | 829 kB 5.2 MB/s eta 0:00:01\r\u001b[K     |████████████████                | 839 kB 5.2 MB/s eta 0:00:01\r\u001b[K     |████████████████▏               | 849 kB 5.2 MB/s eta 0:00:01\r\u001b[K     |████████████████▍               | 860 kB 5.2 MB/s eta 0:00:01\r\u001b[K     |████████████████▌               | 870 kB 5.2 MB/s eta 0:00:01\r\u001b[K     |████████████████▊               | 880 kB 5.2 MB/s eta 0:00:01\r\u001b[K     |█████████████████               | 890 kB 5.2 MB/s eta 0:00:01\r\u001b[K     |█████████████████▏              | 901 kB 5.2 MB/s eta 0:00:01\r\u001b[K     |█████████████████▍              | 911 kB 5.2 MB/s eta 0:00:01\r\u001b[K     |█████████████████▌              | 921 kB 5.2 MB/s eta 0:00:01\r\u001b[K     |█████████████████▊              | 931 kB 5.2 MB/s eta 0:00:01\r\u001b[K     |██████████████████              | 942 kB 5.2 MB/s eta 0:00:01\r\u001b[K     |██████████████████▏             | 952 kB 5.2 MB/s eta 0:00:01\r\u001b[K     |██████████████████▎             | 962 kB 5.2 MB/s eta 0:00:01\r\u001b[K     |██████████████████▌             | 972 kB 5.2 MB/s eta 0:00:01\r\u001b[K     |██████████████████▊             | 983 kB 5.2 MB/s eta 0:00:01\r\u001b[K     |███████████████████             | 993 kB 5.2 MB/s eta 0:00:01\r\u001b[K     |███████████████████             | 1.0 MB 5.2 MB/s eta 0:00:01\r\u001b[K     |███████████████████▎            | 1.0 MB 5.2 MB/s eta 0:00:01\r\u001b[K     |███████████████████▌            | 1.0 MB 5.2 MB/s eta 0:00:01\r\u001b[K     |███████████████████▊            | 1.0 MB 5.2 MB/s eta 0:00:01\r\u001b[K     |███████████████████▉            | 1.0 MB 5.2 MB/s eta 0:00:01\r\u001b[K     |████████████████████            | 1.1 MB 5.2 MB/s eta 0:00:01\r\u001b[K     |████████████████████▎           | 1.1 MB 5.2 MB/s eta 0:00:01\r\u001b[K     |████████████████████▌           | 1.1 MB 5.2 MB/s eta 0:00:01\r\u001b[K     |████████████████████▋           | 1.1 MB 5.2 MB/s eta 0:00:01\r\u001b[K     |████████████████████▉           | 1.1 MB 5.2 MB/s eta 0:00:01\r\u001b[K     |█████████████████████           | 1.1 MB 5.2 MB/s eta 0:00:01\r\u001b[K     |█████████████████████▎          | 1.1 MB 5.2 MB/s eta 0:00:01\r\u001b[K     |█████████████████████▍          | 1.1 MB 5.2 MB/s eta 0:00:01\r\u001b[K     |█████████████████████▋          | 1.1 MB 5.2 MB/s eta 0:00:01\r\u001b[K     |█████████████████████▉          | 1.1 MB 5.2 MB/s eta 0:00:01\r\u001b[K     |██████████████████████          | 1.2 MB 5.2 MB/s eta 0:00:01\r\u001b[K     |██████████████████████▏         | 1.2 MB 5.2 MB/s eta 0:00:01\r\u001b[K     |██████████████████████▍         | 1.2 MB 5.2 MB/s eta 0:00:01\r\u001b[K     |██████████████████████▋         | 1.2 MB 5.2 MB/s eta 0:00:01\r\u001b[K     |██████████████████████▉         | 1.2 MB 5.2 MB/s eta 0:00:01\r\u001b[K     |███████████████████████         | 1.2 MB 5.2 MB/s eta 0:00:01\r\u001b[K     |███████████████████████▏        | 1.2 MB 5.2 MB/s eta 0:00:01\r\u001b[K     |███████████████████████▍        | 1.2 MB 5.2 MB/s eta 0:00:01\r\u001b[K     |███████████████████████▋        | 1.2 MB 5.2 MB/s eta 0:00:01\r\u001b[K     |███████████████████████▊        | 1.2 MB 5.2 MB/s eta 0:00:01\r\u001b[K     |████████████████████████        | 1.3 MB 5.2 MB/s eta 0:00:01\r\u001b[K     |████████████████████████▏       | 1.3 MB 5.2 MB/s eta 0:00:01\r\u001b[K     |████████████████████████▍       | 1.3 MB 5.2 MB/s eta 0:00:01\r\u001b[K     |████████████████████████▌       | 1.3 MB 5.2 MB/s eta 0:00:01\r\u001b[K     |████████████████████████▊       | 1.3 MB 5.2 MB/s eta 0:00:01\r\u001b[K     |█████████████████████████       | 1.3 MB 5.2 MB/s eta 0:00:01\r\u001b[K     |█████████████████████████▏      | 1.3 MB 5.2 MB/s eta 0:00:01\r\u001b[K     |█████████████████████████▎      | 1.3 MB 5.2 MB/s eta 0:00:01\r\u001b[K     |█████████████████████████▌      | 1.3 MB 5.2 MB/s eta 0:00:01\r\u001b[K     |█████████████████████████▊      | 1.4 MB 5.2 MB/s eta 0:00:01\r\u001b[K     |██████████████████████████      | 1.4 MB 5.2 MB/s eta 0:00:01\r\u001b[K     |██████████████████████████      | 1.4 MB 5.2 MB/s eta 0:00:01\r\u001b[K     |██████████████████████████▎     | 1.4 MB 5.2 MB/s eta 0:00:01\r\u001b[K     |██████████████████████████▌     | 1.4 MB 5.2 MB/s eta 0:00:01\r\u001b[K     |██████████████████████████▊     | 1.4 MB 5.2 MB/s eta 0:00:01\r\u001b[K     |██████████████████████████▉     | 1.4 MB 5.2 MB/s eta 0:00:01\r\u001b[K     |███████████████████████████     | 1.4 MB 5.2 MB/s eta 0:00:01\r\u001b[K     |███████████████████████████▎    | 1.4 MB 5.2 MB/s eta 0:00:01\r\u001b[K     |███████████████████████████▌    | 1.4 MB 5.2 MB/s eta 0:00:01\r\u001b[K     |███████████████████████████▋    | 1.5 MB 5.2 MB/s eta 0:00:01\r\u001b[K     |███████████████████████████▉    | 1.5 MB 5.2 MB/s eta 0:00:01\r\u001b[K     |████████████████████████████    | 1.5 MB 5.2 MB/s eta 0:00:01\r\u001b[K     |████████████████████████████▎   | 1.5 MB 5.2 MB/s eta 0:00:01\r\u001b[K     |████████████████████████████▍   | 1.5 MB 5.2 MB/s eta 0:00:01\r\u001b[K     |████████████████████████████▋   | 1.5 MB 5.2 MB/s eta 0:00:01\r\u001b[K     |████████████████████████████▉   | 1.5 MB 5.2 MB/s eta 0:00:01\r\u001b[K     |█████████████████████████████   | 1.5 MB 5.2 MB/s eta 0:00:01\r\u001b[K     |█████████████████████████████▏  | 1.5 MB 5.2 MB/s eta 0:00:01\r\u001b[K     |█████████████████████████████▍  | 1.5 MB 5.2 MB/s eta 0:00:01\r\u001b[K     |█████████████████████████████▋  | 1.6 MB 5.2 MB/s eta 0:00:01\r\u001b[K     |█████████████████████████████▉  | 1.6 MB 5.2 MB/s eta 0:00:01\r\u001b[K     |██████████████████████████████  | 1.6 MB 5.2 MB/s eta 0:00:01\r\u001b[K     |██████████████████████████████▏ | 1.6 MB 5.2 MB/s eta 0:00:01\r\u001b[K     |██████████████████████████████▍ | 1.6 MB 5.2 MB/s eta 0:00:01\r\u001b[K     |██████████████████████████████▋ | 1.6 MB 5.2 MB/s eta 0:00:01\r\u001b[K     |██████████████████████████████▊ | 1.6 MB 5.2 MB/s eta 0:00:01\r\u001b[K     |███████████████████████████████ | 1.6 MB 5.2 MB/s eta 0:00:01\r\u001b[K     |███████████████████████████████▏| 1.6 MB 5.2 MB/s eta 0:00:01\r\u001b[K     |███████████████████████████████▍| 1.6 MB 5.2 MB/s eta 0:00:01\r\u001b[K     |███████████████████████████████▌| 1.7 MB 5.2 MB/s eta 0:00:01\r\u001b[K     |███████████████████████████████▊| 1.7 MB 5.2 MB/s eta 0:00:01\r\u001b[K     |████████████████████████████████| 1.7 MB 5.2 MB/s eta 0:00:01\r\u001b[K     |████████████████████████████████| 1.7 MB 5.2 MB/s \n",
            "\u001b[?25h  Installing build dependencies ... \u001b[?25l\u001b[?25hdone\n",
            "  Getting requirements to build wheel ... \u001b[?25l\u001b[?25hdone\n",
            "    Preparing wheel metadata ... \u001b[?25l\u001b[?25hdone\n",
            "Collecting mako\n",
            "  Downloading Mako-1.1.5-py2.py3-none-any.whl (75 kB)\n",
            "\u001b[K     |████████████████████████████████| 75 kB 3.8 MB/s \n",
            "\u001b[?25hCollecting pytools>=2011.2\n",
            "  Downloading pytools-2021.2.8.tar.gz (63 kB)\n",
            "\u001b[K     |████████████████████████████████| 63 kB 1.8 MB/s \n",
            "\u001b[?25hRequirement already satisfied: appdirs>=1.4.0 in /usr/local/lib/python3.7/dist-packages (from pycuda) (1.4.4)\n",
            "Requirement already satisfied: numpy>=1.6.0 in /usr/local/lib/python3.7/dist-packages (from pytools>=2011.2->pycuda) (1.19.5)\n",
            "Requirement already satisfied: MarkupSafe>=0.9.2 in /usr/local/lib/python3.7/dist-packages (from mako->pycuda) (2.0.1)\n",
            "Building wheels for collected packages: pycuda, pytools\n",
            "  Building wheel for pycuda (PEP 517) ... \u001b[?25l\u001b[?25hdone\n",
            "  Created wheel for pycuda: filename=pycuda-2021.1-cp37-cp37m-linux_x86_64.whl size=627169 sha256=e0ffed84af7edc576004b5aba80063a766f889f6dc4bf6a43b43b04bb644332d\n",
            "  Stored in directory: /root/.cache/pip/wheels/c4/ef/49/dc6a5feb8d980b37c83d465ecab24949a6aa19458522a9e001\n",
            "  Building wheel for pytools (setup.py) ... \u001b[?25l\u001b[?25hdone\n",
            "  Created wheel for pytools: filename=pytools-2021.2.8-py2.py3-none-any.whl size=60725 sha256=f3a71eec10d82e0c98dc926b19ac7878a9d4f82556e36e67b870352a9469b8f6\n",
            "  Stored in directory: /root/.cache/pip/wheels/bd/2d/ef/0127a17bafa44971f11d05d0e38d7947144cf9e33313bf12a7\n",
            "Successfully built pycuda pytools\n",
            "Installing collected packages: pytools, mako, pycuda\n",
            "Successfully installed mako-1.1.5 pycuda-2021.1 pytools-2021.2.8\n"
          ]
        }
      ]
    },
    {
      "cell_type": "markdown",
      "metadata": {
        "id": "rRqjSPgnwt1Z"
      },
      "source": [
        "Импорт нужных библиотек и вывод информации о текущем GPU"
      ]
    },
    {
      "cell_type": "code",
      "metadata": {
        "colab": {
          "base_uri": "https://localhost:8080/",
          "height": 35
        },
        "id": "HkZM79qDCdLN",
        "outputId": "df20c278-edba-4a95-992b-44eb518ff3d5"
      },
      "source": [
        "import numpy as np\n",
        "import pandas as pd\n",
        "from time import time\n",
        "import matplotlib.pyplot as plt\n",
        "\n",
        "import pycuda.autoinit\n",
        "from pycuda import driver, compiler, gpuarray, tools\n",
        "tools.make_default_context().get_device().name()"
      ],
      "execution_count": 4,
      "outputs": [
        {
          "output_type": "execute_result",
          "data": {
            "application/vnd.google.colaboratory.intrinsic+json": {
              "type": "string"
            },
            "text/plain": [
              "'Tesla K80'"
            ]
          },
          "metadata": {},
          "execution_count": 4
        }
      ]
    },
    {
      "cell_type": "markdown",
      "metadata": {
        "id": "eqW-hVhHwxq1"
      },
      "source": [
        "Информация о текущем CPU"
      ]
    },
    {
      "cell_type": "code",
      "metadata": {
        "colab": {
          "base_uri": "https://localhost:8080/"
        },
        "id": "vl__iqv_D284",
        "outputId": "88040436-1bad-4b15-cacf-cd4f3334f16b"
      },
      "source": [
        "!lscpu |grep 'Model name'"
      ],
      "execution_count": 5,
      "outputs": [
        {
          "output_type": "stream",
          "name": "stdout",
          "text": [
            "Model name:          Intel(R) Xeon(R) CPU @ 2.30GHz\n"
          ]
        }
      ]
    },
    {
      "cell_type": "markdown",
      "metadata": {
        "id": "8SjLPiy6xEMC"
      },
      "source": [
        "Написание кода ядра"
      ]
    },
    {
      "cell_type": "code",
      "metadata": {
        "id": "TDg_GXHoD99S",
        "colab": {
          "base_uri": "https://localhost:8080/"
        },
        "outputId": "5ec524ac-1557-45af-9efa-d4091d3cecba"
      },
      "source": [
        "matmul_kernel = \"\"\"\n",
        "    __global__ void MatMulKernel(const float *a, const float *b, float *c, const int size)\n",
        "    {\n",
        "        int column = threadIdx.x + blockIdx.x * blockDim.x;\n",
        "        int row = threadIdx.y + blockIdx.y * blockDim.y;\n",
        "        \n",
        "        float sum = 0;\n",
        "\n",
        "        for (int i = 0; i < size; i++) {\n",
        "            sum += a[row * size + i] * b[i * size + column];\n",
        "        }\n",
        "\n",
        "        c[row * size + column] = sum;\n",
        "    }\n",
        "\"\"\"\n",
        "\n",
        "matmul = compiler.SourceModule(matmul_kernel).get_function(\"MatMulKernel\")"
      ],
      "execution_count": 6,
      "outputs": [
        {
          "output_type": "stream",
          "name": "stderr",
          "text": [
            "/usr/local/lib/python3.7/dist-packages/ipykernel_launcher.py:17: UserWarning: The CUDA compiler succeeded, but said the following:\n",
            "nvcc warning : The 'compute_35', 'compute_37', 'compute_50', 'sm_35', 'sm_37' and 'sm_50' architectures are deprecated, and may be removed in a future release (Use -Wno-deprecated-gpu-targets to suppress warning).\n",
            "\n"
          ]
        }
      ]
    },
    {
      "cell_type": "markdown",
      "metadata": {
        "id": "ZiyqjK10xYfL"
      },
      "source": [
        "Расчёт времени матричного умножения"
      ]
    },
    {
      "cell_type": "code",
      "metadata": {
        "colab": {
          "base_uri": "https://localhost:8080/"
        },
        "id": "7Wr6r_trK07r",
        "outputId": "5a275383-4c1e-4be7-a6d4-39b1d9cad0cd"
      },
      "source": [
        "mean_times_host_matmul = []     # Массив, содержащий средние времена вычислений на CPU\n",
        "mean_times_dev_matmul = []      # Массив, содержащий средние времена вычислений на GPU\n",
        "epsilon = 0.0001                # Необходим для сравнения матриц из дробный чисел\n",
        "sizes = [128, 256, 512, 1024]    # Рассматриваемые размерности N матриц NxN\n",
        "count_iteration = 15            # Количество итераций без \"холодного старта\"\n",
        "\n",
        "for size in sizes:\n",
        "\n",
        "  # Создание данных и выделение памяти на CPU\n",
        "  host_a = np.random.randn(size, size).astype(np.float32)\n",
        "  host_b = np.random.randn(size, size).astype(np.float32)\n",
        "  host_c = np.zeros((size, size), dtype=np.float32)\n",
        "  numpy_c = np.zeros((size, size), dtype=np.float32)\n",
        "\n",
        "  # Выделение памяти на GPU\n",
        "  dev_a = driver.mem_alloc(host_a.nbytes)\n",
        "  dev_b = driver.mem_alloc(host_b.nbytes)\n",
        "  dev_c = driver.mem_alloc(host_c.nbytes)\n",
        "\n",
        "  \"\"\"\n",
        "  Вычисление размерности блоков и сетки блоков.\n",
        "  Каждый блок состоит из варпов (32 нити) и содержит макс. 1024 нити\n",
        "  \"\"\"\n",
        "  if size > 32:\n",
        "    gdim, remains = divmod(size, 32)  # divmod(a, b) return a // b, a % b\n",
        "\n",
        "    # Двумерный блок из 32 варпов\n",
        "    bdim = (32, 32, 1)\n",
        "    # Вычисление размерности сетки блоков                \n",
        "    gdim = (gdim + (remains > 0), gdim + (remains > 0))\n",
        "  else:\n",
        "    bdim = (size, size, 1)\n",
        "    gdim = (1, 1)\n",
        "\n",
        "  # Массивы с временами на соответствующем устройстве для вычисления среднего \n",
        "  times_host_matmul = []\n",
        "  times_dev_matmul = []\n",
        "\n",
        "  for i in range(count_iteration + 1):\n",
        "    # Вычисление времени на GPU (с учётом пересылки данных)\n",
        "    start_time = time()\n",
        "    driver.memcpy_htod(dev_a, host_a) \n",
        "    driver.memcpy_htod(dev_b, host_b)\n",
        "    matmul(dev_a, dev_b, dev_c, np.int32(size), block=bdim, grid=gdim)\n",
        "    driver.memcpy_dtoh(host_c, dev_c)\n",
        "    end_time = time()\n",
        "    times_dev_matmul.append(end_time - start_time)\n",
        "\n",
        "    # Вычисление времени на CPU\n",
        "    start_time = time()\n",
        "    numpy_c = np.dot(host_a, host_b)\n",
        "    end_time = time()\n",
        "    times_host_matmul.append(end_time - start_time)\n",
        "\n",
        "  # Вычтсление среднего значения времени без \"холодного старта\"\n",
        "  mean_times_dev_matmul.append(np.mean(times_dev_matmul[1:]))\n",
        "  mean_times_host_matmul.append(np.mean(times_host_matmul[1:]))\n",
        "\n",
        "  # Сравнение матриц на CPU и на GPU с допустимой погрешностью в epsilon\n",
        "  print(f\"Size = {size}. numpy_c равен host_c с погрешностью {epsilon}?\\t\" + \n",
        "        str(np.allclose(numpy_c, host_c, atol=epsilon)))\n",
        "\n",
        "print(f\"CPU = {mean_times_host_matmul}\")\n",
        "print(f\"GPU = {mean_times_dev_matmul}\")"
      ],
      "execution_count": 12,
      "outputs": [
        {
          "output_type": "stream",
          "name": "stdout",
          "text": [
            "Size = 128. numpy_c равен host_c с погрешностью 0.0001?\tTrue\n",
            "Size = 256. numpy_c равен host_c с погрешностью 0.0001?\tTrue\n",
            "Size = 512. numpy_c равен host_c с погрешностью 0.0001?\tTrue\n",
            "Size = 1024. numpy_c равен host_c с погрешностью 0.0001?\tTrue\n",
            "CPU = [0.0001613775889078776, 0.0006404399871826171, 0.004334767659505208, 0.03319102923075358]\n",
            "GPU = [0.00024601618448893227, 0.0007328192392985026, 0.0039055665334065755, 0.026323715845743816]\n"
          ]
        }
      ]
    },
    {
      "cell_type": "markdown",
      "metadata": {
        "id": "fbwgRnHx2_eC"
      },
      "source": [
        "Сравнение скоростей двух реализаций"
      ]
    },
    {
      "cell_type": "code",
      "metadata": {
        "colab": {
          "base_uri": "https://localhost:8080/",
          "height": 296
        },
        "id": "BRDVZp89wuzR",
        "outputId": "0f33f7ed-aebc-417e-a56e-c2d66467c4ef"
      },
      "source": [
        "plt.plot(sizes, mean_times_host_matmul, color=\"blue\", label=\"CPU\")\n",
        "plt.plot(sizes, mean_times_dev_matmul, color=\"red\", label=\"GPU\")\n",
        "plt.xlabel(\"Размерность N матриц NxN\")\n",
        "plt.ylabel(\"Время, с\")\n",
        "plt.legend()"
      ],
      "execution_count": 13,
      "outputs": [
        {
          "output_type": "execute_result",
          "data": {
            "text/plain": [
              "<matplotlib.legend.Legend at 0x7f4ba0f6d0d0>"
            ]
          },
          "metadata": {},
          "execution_count": 13
        },
        {
          "output_type": "display_data",
          "data": {
            "image/png": "[encoded data removed]",
            "text/plain": [
              "<Figure size 432x288 with 1 Axes>"
            ]
          },
          "metadata": {
            "needs_background": "light"
          }
        }
      ]
    },
    {
      "cell_type": "markdown",
      "metadata": {
        "id": "DNLv9w7W3hh5"
      },
      "source": [
        "Визуализация ускорения на GPU"
      ]
    },
    {
      "cell_type": "code",
      "metadata": {
        "colab": {
          "base_uri": "https://localhost:8080/",
          "height": 310
        },
        "id": "pxMw3MXIuCij",
        "outputId": "9efaa607-3e6f-456c-f5f8-8108be2804a7"
      },
      "source": [
        "plt.plot(sizes, np.array(mean_times_host_matmul) / np.array(mean_times_dev_matmul))\n",
        "plt.xlabel(\"Размерность N матриц NxN\")\n",
        "plt.ylabel(\"Отношение времени на CPU к времени на GPU\")"
      ],
      "execution_count": 14,
      "outputs": [
        {
          "output_type": "execute_result",
          "data": {
            "text/plain": [
              "Text(0, 0.5, 'Отношение времени на CPU к времени на GPU')"
            ]
          },
          "metadata": {},
          "execution_count": 14
        },
        {
          "output_type": "display_data",
          "data": {
            "image/png": "[encoded data removed]",
            "text/plain": [
              "<Figure size 432x288 with 1 Axes>"
            ]
          },
          "metadata": {
            "needs_background": "light"
          }
        }
      ]
    },
    {
      "cell_type": "markdown",
      "metadata": {
        "id": "riSLzmap4HSt"
      },
      "source": [
        "Сохранение результатов в excel"
      ]
    },
    {
      "cell_type": "code",
      "metadata": {
        "colab": {
          "base_uri": "https://localhost:8080/",
          "height": 173
        },
        "id": "8aMme_ZoQmBx",
        "outputId": "5841ebe1-13d2-4f71-a3e8-07d83164c236"
      },
      "source": [
        "df = pd.DataFrame({\"CPU\": mean_times_host_matmul, \"GPU\": mean_times_dev_matmul}, index=sizes)\n",
        "df.to_excel(\"CPU and GPU.xlsx\")\n",
        "df"
      ],
      "execution_count": 15,
      "outputs": [
        {
          "output_type": "execute_result",
          "data": {
            "text/html": [
              "<div>\n",
              "<style scoped>\n",
              "    .dataframe tbody tr th:only-of-type {\n",
              "        vertical-align: middle;\n",
              "    }\n",
              "\n",
              "    .dataframe tbody tr th {\n",
              "        vertical-align: top;\n",
              "    }\n",
              "\n",
              "    .dataframe thead th {\n",
              "        text-align: right;\n",
              "    }\n",
              "</style>\n",
              "<table border=\"1\" class=\"dataframe\">\n",
              "  <thead>\n",
              "    <tr style=\"text-align: right;\">\n",
              "      <th></th>\n",
              "      <th>CPU</th>\n",
              "      <th>GPU</th>\n",
              "    </tr>\n",
              "  </thead>\n",
              "  <tbody>\n",
              "    <tr>\n",
              "      <th>128</th>\n",
              "      <td>0.000161</td>\n",
              "      <td>0.000246</td>\n",
              "    </tr>\n",
              "    <tr>\n",
              "      <th>256</th>\n",
              "      <td>0.000640</td>\n",
              "      <td>0.000733</td>\n",
              "    </tr>\n",
              "    <tr>\n",
              "      <th>512</th>\n",
              "      <td>0.004335</td>\n",
              "      <td>0.003906</td>\n",
              "    </tr>\n",
              "    <tr>\n",
              "      <th>1024</th>\n",
              "      <td>0.033191</td>\n",
              "      <td>0.026324</td>\n",
              "    </tr>\n",
              "  </tbody>\n",
              "</table>\n",
              "</div>"
            ],
            "text/plain": [
              "           CPU       GPU\n",
              "128   0.000161  0.000246\n",
              "256   0.000640  0.000733\n",
              "512   0.004335  0.003906\n",
              "1024  0.033191  0.026324"
            ]
          },
          "metadata": {},
          "execution_count": 15
        }
      ]
    },
    {
      "cell_type": "code",
      "metadata": {
        "id": "8LmsqM6jzGvr"
      },
      "source": [
        ""
      ],
      "execution_count": null,
      "outputs": []
    }
  ]
}